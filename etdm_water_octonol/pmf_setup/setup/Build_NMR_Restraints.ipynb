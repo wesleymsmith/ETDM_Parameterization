{
 "cells": [
  {
   "cell_type": "code",
   "execution_count": 2,
   "metadata": {},
   "outputs": [],
   "source": [
    "import numpy as np\n",
    "import pandas as pd\n",
    "import tqdm\n",
    "import pytraj as pt\n",
    "import matplotlib\n",
    "from matplotlib import pyplot as plt\n",
    "import seaborn"
   ]
  },
  {
   "cell_type": "code",
   "execution_count": 3,
   "metadata": {},
   "outputs": [
    {
     "name": "stdout",
     "output_type": "stream",
     "text": [
      "/data/wesley/ETDM_Parameterization/etdm_water_octonol/pmf_setup/setup\n",
      "/data/wesley/ETDM_Parameterization/etdm_water_octonol/pmf_setup/setup\n",
      "Build_NMR_Restraints.ipynb\t      etdm_water_ocoh.parm7\n",
      "Run_pressure_equil_prod.mpi_cuda.scr  step5.00.0_pmfSetup.mdin\n",
      "etdm_water_ocoh.equilibrated.pdb      step5.00.1_pmfSetup.mdin\n",
      "etdm_water_ocoh.equilibrated.rst7\n"
     ]
    }
   ],
   "source": [
    "%cd /home/wesley/work/ETDM_Parameterization/etdm_water_octonol/pmf_setup/setup/\n",
    "!pwd\n",
    "!ls"
   ]
  },
  {
   "cell_type": "code",
   "execution_count": 4,
   "metadata": {},
   "outputs": [
    {
     "data": {
      "text/plain": [
       "pytraj.Trajectory, 1 frames: \n",
       "Size: 0.000953 (GB)\n",
       "<Topology: 42644 atoms, 7587 residues, 7587 mols, PBC with box type = ortho>\n",
       "           "
      ]
     },
     "execution_count": 4,
     "metadata": {},
     "output_type": "execute_result"
    }
   ],
   "source": [
    "struc=pt.load('etdm_water_ocoh.equilibrated.rst7',top='etdm_water_ocoh.parm7')\n",
    "struc"
   ]
  },
  {
   "cell_type": "code",
   "execution_count": 12,
   "metadata": {},
   "outputs": [
    {
     "data": {
      "text/plain": [
       "(6717,)"
      ]
     },
     "execution_count": 12,
     "metadata": {},
     "output_type": "execute_result"
    }
   ],
   "source": [
    "struc.topology.atom_indices(\":TIP3@OH2\").shape\n",
    "#', '.join(['%g'%ii for ii in struc.topology.atom_indices(\":TIP3@OH2\")+1])"
   ]
  },
  {
   "cell_type": "code",
   "execution_count": null,
   "metadata": {},
   "outputs": [],
   "source": []
  }
 ],
 "metadata": {
  "kernelspec": {
   "display_name": "Python 3",
   "language": "python",
   "name": "python3"
  },
  "language_info": {
   "codemirror_mode": {
    "name": "ipython",
    "version": 3
   },
   "file_extension": ".py",
   "mimetype": "text/x-python",
   "name": "python",
   "nbconvert_exporter": "python",
   "pygments_lexer": "ipython3",
   "version": "3.7.5"
  }
 },
 "nbformat": 4,
 "nbformat_minor": 4
}
